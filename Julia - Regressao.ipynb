{
 "cells": [
  {
   "cell_type": "code",
   "execution_count": 5,
   "metadata": {},
   "outputs": [
    {
     "ename": "UndefVarError",
     "evalue": "UndefVarError: readtable not defined",
     "output_type": "error",
     "traceback": [
      "UndefVarError: readtable not defined",
      "",
      "Stacktrace:",
      " [1] top-level scope at In[5]:6"
     ]
    }
   ],
   "source": [
    "using DataFrames\n",
    "using Gadfly\n",
    "using GLM\n",
    "using CSV\n",
    "using Plots\n",
    "\n",
    "trainData = readtable(\"c://git//data//titanic//train.csv\", header = true)\n",
    "testData = readtable(\"c://git//data//titanic//test.csv\", header = true)\n",
    "\n",
    "showcols(testData)\n",
    "\n",
    "showcols(trainData)\n",
    "#plot(trainData, x=\"Fare\",y=\"Survived\", Geom.histogram)"
   ]
  },
  {
   "cell_type": "code",
   "execution_count": null,
   "metadata": {},
   "outputs": [],
   "source": [
    "\n",
    "median(dropna(trainData[:Age]))\n",
    "\n",
    "trainData[:Pclass] = float(trainData[:Pclass])\n",
    "trainData[:Survived] = float(trainData[:Survived])\n",
    "typeof(trainData[:Survived])\n",
    "trainData[isna(trainData[:Age]), :Age] = 0\n",
    "\n",
    "trainFull = DataFrame()\n",
    "trainFull[:PassengerId] = float(trainData[:PassengerId])\n",
    "trainFull[:Survived] = trainData[:Survived]\n",
    "trainFull[:Pclass] = float(trainData[:Pclass])\n",
    "trainFull[:Sex] = float(ifelse(trainData[:Sex] .== \"male\" ,1, 0))\n",
    "trainFull[:Age] = float(isna(trainData[:Age]) .== 0)\n",
    "trainFull[:Age] = trainData[:Age]\n",
    "\n",
    "trainFull[:Age] = trainData[:Age]\n",
    "trainFull[:Fare] = trainData[:Fare]\n",
    "trainFull[:Parch] = float(trainData[:Parch])\n",
    "trainFull[:SibSp] = float(trainData[:SibSp])\n",
    "delete!(trainFull, :PassengerId)\n",
    "trainFull\n",
    "showcols(trainFull)\n",
    "\n",
    "testFull = DataFrame()\n",
    "push!(testFull, testData)\n",
    "testFull = DataFrame(Pclass = Float64[], Sex = Float64[], Age = Float64[], Fare= Float64[], Parch = Float64[], SibSp = Float64[])\n",
    "\n",
    "test = DataFrame()\n",
    "test[:Pclass] = float(testData[:Pclass])\n",
    "test[:Sex] = float(ifelse(testData[:Sex] .== \"male\" ,1, 0))\n",
    "test[:Age] = testData[:Age]\n",
    "test[:Age] = float(isna(testData[:Age]) .== 0)\n",
    "test[:Fare] = float(isna(testData[:Fare]) .== 0)\n",
    "test[:Parch] = float(testData[:Parch])\n",
    "test[:SibSp] = float(testData[:SibSp] * 4)\n",
    "test\n",
    "showcols(test)"
   ]
  },
  {
   "cell_type": "code",
   "execution_count": null,
   "metadata": {},
   "outputs": [],
   "source": [
    "testFull1\n",
    "\n",
    "trainFull[float(testData[:Pclass]), float(ifelse(testData[:Sex] .== \"male\" ,1, 0)), testData[:Age],float(testData[:Fare]), float(testData[:Parch]), float(testData[:SibSp])]\n",
    "\n",
    "trainData[:Fare]\n",
    "trainData[:Age]\n",
    "trainFull[:Sex]\n",
    "showcols(trainFull)\n",
    "showcols(trainData)\n",
    "trainData[:Embarked]\n",
    "cov(dropna(trainData[:Fare]), trainData[:Survived])\n",
    "\n",
    "\n",
    "\n",
    "\n",
    "\n",
    "trained = fit(GeneralizedLinearModel, Survived ~ Pclass + Sex + Age + Fare + Parch + SibSp, trainFull, Binomial(), LogitLink())\n",
    "trainedwithoutNA = fit(GeneralizedLinearModel, Survived ~ Pclass + Sex + Age + Fare + Parch + SibSp, trainFull, Binomial(), LogitLink())\n",
    "\n",
    "trained\n",
    "\n",
    "trained1\n",
    "trainFull[:Fare]\n",
    "\n",
    "predict(trained)\n",
    "a=[1.0, 1.0, 35.0, 53.1, 8.05, 0, 0]\n",
    "a1 = DataFrame(Pclass = Float64[], Sex = Float64[],\n",
    " Age = Float64[], Fare = Float64[], Parch = Float64[], SibSp = Float64[])\n",
    "a1\n",
    "\n",
    "\n",
    "push!(a1, [3.0, 0.0, 4.0, 16.7, 1, 1])\n",
    "a1\n",
    "predict(trained, a1)\n",
    "\n",
    "\n",
    "genderModel = readtable(\"/Users/pantelispanka/Julia/Titanic/gendermodel.csv\", header = true)\n",
    "genderModel\n",
    "prediction = predict(trainedwithoutNA, test)\n",
    "\n",
    "genderModel[ isna(genderModel[:prediction]), :prediction ] .== 0\n",
    "genderModel[ genderModel[:prediction] .< 0.5 , :prediction ] = 0\n",
    "genderModel[ genderModel[:prediction] .> 0.5 , :prediction ] = 1\n",
    "\n",
    "showcols(genderModel)\n",
    "\n",
    "sum(genderModel[:prediction] .== genderModel[:Survived]) / nrow(genderModel) * 100\n",
    "\n",
    "nrow(genderModel)\n",
    "\n",
    "writetable(\"/Users/pantelispanka/Julia/Titanic/prediction.csv\", genderModel)"
   ]
  }
 ],
 "metadata": {
  "kernelspec": {
   "display_name": "Julia 1.4.1",
   "language": "julia",
   "name": "julia-1.4"
  },
  "language_info": {
   "file_extension": ".jl",
   "mimetype": "application/julia",
   "name": "julia",
   "version": "1.4.1"
  },
  "varInspector": {
   "cols": {
    "lenName": 16,
    "lenType": 16,
    "lenVar": 40
   },
   "kernels_config": {
    "python": {
     "delete_cmd_postfix": "",
     "delete_cmd_prefix": "del ",
     "library": "var_list.py",
     "varRefreshCmd": "print(var_dic_list())"
    },
    "r": {
     "delete_cmd_postfix": ") ",
     "delete_cmd_prefix": "rm(",
     "library": "var_list.r",
     "varRefreshCmd": "cat(var_dic_list()) "
    }
   },
   "types_to_exclude": [
    "module",
    "function",
    "builtin_function_or_method",
    "instance",
    "_Feature"
   ],
   "window_display": false
  }
 },
 "nbformat": 4,
 "nbformat_minor": 2
}